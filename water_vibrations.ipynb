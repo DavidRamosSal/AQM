{
 "cells": [
  {
   "cell_type": "markdown",
   "metadata": {},
   "source": [
    "# Vibraciones del agua usando Python"
   ]
  },
  {
   "cell_type": "markdown",
   "metadata": {},
   "source": [
    "Las frecuencias de vibración del agua se calculan como las soluciones a la ecuación secular\n",
    "\n",
    "$$ |F_S G_S-\\lambda E| = 0 ,$$\n",
    "\n",
    "con\n",
    "\n",
    "\\begin{equation*}\n",
    "    F_S = U F U^{T} \\qquad \\text{y} \\qquad G_S = U G U^{T},\n",
    "\\end{equation*}\n",
    "y \n",
    "$$ U = \\left(\\begin{matrix}\n",
    "\\dfrac{1}{\\sqrt{2}}    &  \\dfrac{1}{\\sqrt{2}}   &    0 \\\\\n",
    "0   &   0   &   1 \\\\\n",
    "\\dfrac{1}{\\sqrt{2}} &   -\\dfrac{1}{\\sqrt{2}}    &   0\n",
    "\\end{matrix}\\right) $$"
   ]
  },
  {
   "cell_type": "markdown",
   "metadata": {},
   "source": [
    "Para realizar operaciones matriciales se usará la librería de Python Sympy"
   ]
  },
  {
   "cell_type": "code",
   "execution_count": 1,
   "metadata": {},
   "outputs": [],
   "source": [
    "# Se importa la librería completa\n",
    "from sympy import *\n",
    "\n",
    "# Se declaran las variables simbólicas que se usarán\n",
    "var('L l M Sec det1 det2 U F G Fs Gs f_11 f_12 f_13 f_21 f_22 f_23 f_31 f_32 f_33 g_11 g_12 g_13 g_22 g_23 g_33')\n",
    "\n",
    "# Se definen las matrices que se usarán, teniendo en cuenta las simplificaciones debido a la simetría del problema\n",
    "U = Matrix([[1/sqrt(2),1/sqrt(2),0],[0,0,1],[1/sqrt(2),-1/sqrt(2),0]])\n",
    "F = Matrix([[f_11, f_12,f_13], [f_12, f_11, f_13], [f_13,f_13, f_33]])\n",
    "G = Matrix([[g_11, g_12, g_13], [g_12, g_11, g_13],[g_13,g_13,g_33]])\n",
    "L = Matrix([[l,0,0],[0,l,0],[0,0,l]])"
   ]
  },
  {
   "cell_type": "markdown",
   "metadata": {},
   "source": [
    "En estas definiciones $f_{11} = f_r$, $f_{12} = f_{rr}$, $f_{33}= f_{\\alpha}$ y $f_{13} = f_{r\\alpha}$"
   ]
  },
  {
   "cell_type": "code",
   "execution_count": 2,
   "metadata": {},
   "outputs": [
    {
     "data": {
      "text/latex": [
       "$\\displaystyle \\left[\\begin{matrix}\\frac{\\sqrt{2}}{2} & \\frac{\\sqrt{2}}{2} & 0\\\\0 & 0 & 1\\\\\\frac{\\sqrt{2}}{2} & - \\frac{\\sqrt{2}}{2} & 0\\end{matrix}\\right]$"
      ],
      "text/plain": [
       "Matrix([\n",
       "[sqrt(2)/2,  sqrt(2)/2, 0],\n",
       "[        0,          0, 1],\n",
       "[sqrt(2)/2, -sqrt(2)/2, 0]])"
      ]
     },
     "execution_count": 2,
     "metadata": {},
     "output_type": "execute_result"
    }
   ],
   "source": [
    "U"
   ]
  },
  {
   "cell_type": "code",
   "execution_count": 3,
   "metadata": {},
   "outputs": [
    {
     "data": {
      "text/latex": [
       "$\\displaystyle \\left[\\begin{matrix}f_{11} & f_{12} & f_{13}\\\\f_{12} & f_{11} & f_{13}\\\\f_{13} & f_{13} & f_{33}\\end{matrix}\\right]$"
      ],
      "text/plain": [
       "Matrix([\n",
       "[f_11, f_12, f_13],\n",
       "[f_12, f_11, f_13],\n",
       "[f_13, f_13, f_33]])"
      ]
     },
     "execution_count": 3,
     "metadata": {},
     "output_type": "execute_result"
    }
   ],
   "source": [
    "F"
   ]
  },
  {
   "cell_type": "code",
   "execution_count": 4,
   "metadata": {
    "scrolled": true
   },
   "outputs": [
    {
     "data": {
      "text/latex": [
       "$\\displaystyle \\left[\\begin{matrix}g_{11} & g_{12} & g_{13}\\\\g_{12} & g_{11} & g_{13}\\\\g_{13} & g_{13} & g_{33}\\end{matrix}\\right]$"
      ],
      "text/plain": [
       "Matrix([\n",
       "[g_11, g_12, g_13],\n",
       "[g_12, g_11, g_13],\n",
       "[g_13, g_13, g_33]])"
      ]
     },
     "execution_count": 4,
     "metadata": {},
     "output_type": "execute_result"
    }
   ],
   "source": [
    "G"
   ]
  },
  {
   "cell_type": "markdown",
   "metadata": {},
   "source": [
    "Se calculan las matrices $F$ y $G$ en las coordenadas simétricas"
   ]
  },
  {
   "cell_type": "code",
   "execution_count": 5,
   "metadata": {},
   "outputs": [],
   "source": [
    "Fs = simplify(U*F*U.T)"
   ]
  },
  {
   "cell_type": "code",
   "execution_count": 6,
   "metadata": {},
   "outputs": [
    {
     "data": {
      "text/latex": [
       "$\\displaystyle \\left[\\begin{matrix}f_{11} + f_{12} & \\sqrt{2} f_{13} & 0\\\\\\sqrt{2} f_{13} & f_{33} & 0\\\\0 & 0 & f_{11} - f_{12}\\end{matrix}\\right]$"
      ],
      "text/plain": [
       "Matrix([\n",
       "[ f_11 + f_12, sqrt(2)*f_13,           0],\n",
       "[sqrt(2)*f_13,         f_33,           0],\n",
       "[           0,            0, f_11 - f_12]])"
      ]
     },
     "execution_count": 6,
     "metadata": {},
     "output_type": "execute_result"
    }
   ],
   "source": [
    "Fs"
   ]
  },
  {
   "cell_type": "code",
   "execution_count": 7,
   "metadata": {
    "scrolled": true
   },
   "outputs": [],
   "source": [
    "Gs = simplify(U*G*U.T)"
   ]
  },
  {
   "cell_type": "code",
   "execution_count": 8,
   "metadata": {
    "scrolled": true
   },
   "outputs": [
    {
     "data": {
      "text/latex": [
       "$\\displaystyle \\left[\\begin{matrix}g_{11} + g_{12} & \\sqrt{2} g_{13} & 0\\\\\\sqrt{2} g_{13} & g_{33} & 0\\\\0 & 0 & g_{11} - g_{12}\\end{matrix}\\right]$"
      ],
      "text/plain": [
       "Matrix([\n",
       "[ g_11 + g_12, sqrt(2)*g_13,           0],\n",
       "[sqrt(2)*g_13,         g_33,           0],\n",
       "[           0,            0, g_11 - g_12]])"
      ]
     },
     "execution_count": 8,
     "metadata": {},
     "output_type": "execute_result"
    }
   ],
   "source": [
    "Gs"
   ]
  },
  {
   "cell_type": "markdown",
   "metadata": {},
   "source": [
    "Se realiza la multiplicación matricial"
   ]
  },
  {
   "cell_type": "code",
   "execution_count": 9,
   "metadata": {},
   "outputs": [],
   "source": [
    "M = Fs*Gs"
   ]
  },
  {
   "cell_type": "code",
   "execution_count": 10,
   "metadata": {
    "scrolled": false
   },
   "outputs": [
    {
     "data": {
      "text/latex": [
       "$\\displaystyle \\left[\\begin{matrix}2 f_{13} g_{13} + \\left(f_{11} + f_{12}\\right) \\left(g_{11} + g_{12}\\right) & \\sqrt{2} f_{13} g_{33} + \\sqrt{2} g_{13} \\left(f_{11} + f_{12}\\right) & 0\\\\\\sqrt{2} f_{13} \\left(g_{11} + g_{12}\\right) + \\sqrt{2} f_{33} g_{13} & 2 f_{13} g_{13} + f_{33} g_{33} & 0\\\\0 & 0 & \\left(f_{11} - f_{12}\\right) \\left(g_{11} - g_{12}\\right)\\end{matrix}\\right]$"
      ],
      "text/plain": [
       "Matrix([\n",
       "[     2*f_13*g_13 + (f_11 + f_12)*(g_11 + g_12), sqrt(2)*f_13*g_33 + sqrt(2)*g_13*(f_11 + f_12),                           0],\n",
       "[sqrt(2)*f_13*(g_11 + g_12) + sqrt(2)*f_33*g_13,                        2*f_13*g_13 + f_33*g_33,                           0],\n",
       "[                                             0,                                              0, (f_11 - f_12)*(g_11 - g_12)]])"
      ]
     },
     "execution_count": 10,
     "metadata": {},
     "output_type": "execute_result"
    }
   ],
   "source": [
    "M"
   ]
  },
  {
   "cell_type": "markdown",
   "metadata": {},
   "source": [
    "Se le resta la matriz diagonal $\\lambda E$"
   ]
  },
  {
   "cell_type": "code",
   "execution_count": 11,
   "metadata": {},
   "outputs": [],
   "source": [
    "Sec = M-L"
   ]
  },
  {
   "cell_type": "markdown",
   "metadata": {},
   "source": [
    "Y se calcula el determinante"
   ]
  },
  {
   "cell_type": "code",
   "execution_count": 12,
   "metadata": {},
   "outputs": [],
   "source": [
    "det1 = expand(Sec.det())"
   ]
  },
  {
   "cell_type": "code",
   "execution_count": 13,
   "metadata": {},
   "outputs": [
    {
     "data": {
      "text/latex": [
       "$\\displaystyle f_{11}^{2} f_{33} g_{11}^{2} g_{33} - 2 f_{11}^{2} f_{33} g_{11} g_{13}^{2} - f_{11}^{2} f_{33} g_{12}^{2} g_{33} + 2 f_{11}^{2} f_{33} g_{12} g_{13}^{2} - f_{11}^{2} g_{11}^{2} l + f_{11}^{2} g_{12}^{2} l - 2 f_{11} f_{13}^{2} g_{11}^{2} g_{33} + 4 f_{11} f_{13}^{2} g_{11} g_{13}^{2} + 2 f_{11} f_{13}^{2} g_{12}^{2} g_{33} - 4 f_{11} f_{13}^{2} g_{12} g_{13}^{2} - 4 f_{11} f_{13} g_{11} g_{13} l + 4 f_{11} f_{13} g_{12} g_{13} l - 2 f_{11} f_{33} g_{11} g_{33} l + 2 f_{11} f_{33} g_{13}^{2} l + 2 f_{11} g_{11} l^{2} - f_{12}^{2} f_{33} g_{11}^{2} g_{33} + 2 f_{12}^{2} f_{33} g_{11} g_{13}^{2} + f_{12}^{2} f_{33} g_{12}^{2} g_{33} - 2 f_{12}^{2} f_{33} g_{12} g_{13}^{2} + f_{12}^{2} g_{11}^{2} l - f_{12}^{2} g_{12}^{2} l + 2 f_{12} f_{13}^{2} g_{11}^{2} g_{33} - 4 f_{12} f_{13}^{2} g_{11} g_{13}^{2} - 2 f_{12} f_{13}^{2} g_{12}^{2} g_{33} + 4 f_{12} f_{13}^{2} g_{12} g_{13}^{2} + 4 f_{12} f_{13} g_{11} g_{13} l - 4 f_{12} f_{13} g_{12} g_{13} l - 2 f_{12} f_{33} g_{12} g_{33} l + 2 f_{12} f_{33} g_{13}^{2} l + 2 f_{12} g_{12} l^{2} + 2 f_{13}^{2} g_{11} g_{33} l + 2 f_{13}^{2} g_{12} g_{33} l - 4 f_{13}^{2} g_{13}^{2} l + 4 f_{13} g_{13} l^{2} + f_{33} g_{33} l^{2} - l^{3}$"
      ],
      "text/plain": [
       "f_11**2*f_33*g_11**2*g_33 - 2*f_11**2*f_33*g_11*g_13**2 - f_11**2*f_33*g_12**2*g_33 + 2*f_11**2*f_33*g_12*g_13**2 - f_11**2*g_11**2*l + f_11**2*g_12**2*l - 2*f_11*f_13**2*g_11**2*g_33 + 4*f_11*f_13**2*g_11*g_13**2 + 2*f_11*f_13**2*g_12**2*g_33 - 4*f_11*f_13**2*g_12*g_13**2 - 4*f_11*f_13*g_11*g_13*l + 4*f_11*f_13*g_12*g_13*l - 2*f_11*f_33*g_11*g_33*l + 2*f_11*f_33*g_13**2*l + 2*f_11*g_11*l**2 - f_12**2*f_33*g_11**2*g_33 + 2*f_12**2*f_33*g_11*g_13**2 + f_12**2*f_33*g_12**2*g_33 - 2*f_12**2*f_33*g_12*g_13**2 + f_12**2*g_11**2*l - f_12**2*g_12**2*l + 2*f_12*f_13**2*g_11**2*g_33 - 4*f_12*f_13**2*g_11*g_13**2 - 2*f_12*f_13**2*g_12**2*g_33 + 4*f_12*f_13**2*g_12*g_13**2 + 4*f_12*f_13*g_11*g_13*l - 4*f_12*f_13*g_12*g_13*l - 2*f_12*f_33*g_12*g_33*l + 2*f_12*f_33*g_13**2*l + 2*f_12*g_12*l**2 + 2*f_13**2*g_11*g_33*l + 2*f_13**2*g_12*g_33*l - 4*f_13**2*g_13**2*l + 4*f_13*g_13*l**2 + f_33*g_33*l**2 - l**3"
      ]
     },
     "execution_count": 13,
     "metadata": {},
     "output_type": "execute_result"
    }
   ],
   "source": [
    "det1"
   ]
  },
  {
   "cell_type": "markdown",
   "metadata": {},
   "source": [
    "Usando los valores numéricos\n",
    "\n",
    "\\begin{align*}\n",
    "    f_{11} &= 8.45 \\\\\n",
    "    f_{12} &= -0.09 \\\\\n",
    "    f_{13} &= -0.76 \\\\\n",
    "    f_{33} &= 0.26 \\\\\n",
    "    g_{11} &= 1.0546 \\\\\n",
    "    g_{12} &= -0.0156 \\\\\n",
    "    g_{13} &= -0.0605 \\\\\n",
    "    g_{33} &= 2.3225\n",
    "\\end{align*}"
   ]
  },
  {
   "cell_type": "code",
   "execution_count": 14,
   "metadata": {},
   "outputs": [],
   "source": [
    "det2 = det1.subs([(g_11,1.0546),(g_12,-0.0156),(g_13,-0.0605),(g_33,2.3225),(f_11,8.45),(f_12,-0.09),(f_33,0.76),(f_13,0.26)])"
   ]
  },
  {
   "cell_type": "markdown",
   "metadata": {},
   "source": [
    "el determinante se reduce a"
   ]
  },
  {
   "cell_type": "code",
   "execution_count": 15,
   "metadata": {},
   "outputs": [
    {
     "data": {
      "text/latex": [
       "$\\displaystyle - l^{3} + 19.527728 l^{2} - 109.90317912456 l + 136.726667965242$"
      ],
      "text/plain": [
       "-l**3 + 19.527728*l**2 - 109.90317912456*l + 136.726667965242"
      ]
     },
     "execution_count": 15,
     "metadata": {},
     "output_type": "execute_result"
    }
   ],
   "source": [
    "det2"
   ]
  },
  {
   "cell_type": "markdown",
   "metadata": {},
   "source": [
    "Resolviendo la ecuación cúbica se encuentran las tres raices "
   ]
  },
  {
   "cell_type": "code",
   "execution_count": 16,
   "metadata": {},
   "outputs": [
    {
     "data": {
      "text/plain": [
       "[1.72729310790719 + 0.e-21*I,\n",
       " 8.66092689209287 + 0.e-22*I,\n",
       " 9.13950799999994 - 0.e-22*I]"
      ]
     },
     "execution_count": 16,
     "metadata": {},
     "output_type": "execute_result"
    }
   ],
   "source": [
    "solve(det2,l)"
   ]
  }
 ],
 "metadata": {
  "kernelspec": {
   "display_name": "Python 3",
   "language": "python",
   "name": "python3"
  },
  "language_info": {
   "codemirror_mode": {
    "name": "ipython",
    "version": 3
   },
   "file_extension": ".py",
   "mimetype": "text/x-python",
   "name": "python",
   "nbconvert_exporter": "python",
   "pygments_lexer": "ipython3",
   "version": "3.7.6"
  }
 },
 "nbformat": 4,
 "nbformat_minor": 4
}
